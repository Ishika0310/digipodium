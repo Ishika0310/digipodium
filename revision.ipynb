{
 "cells": [
  {
   "attachments": {},
   "cell_type": "markdown",
   "metadata": {},
   "source": [
    "## revision"
   ]
  },
  {
   "cell_type": "code",
   "execution_count": 3,
   "metadata": {},
   "outputs": [
    {
     "name": "stdout",
     "output_type": "stream",
     "text": [
      "79\n",
      "hello world\n"
     ]
    }
   ],
   "source": [
    "a=23\n",
    "b=\"hello\"\n",
    "c=56\n",
    "d=\"world\"\n",
    "print(a+c)\n",
    "print(b+\" \"+d)"
   ]
  },
  {
   "cell_type": "code",
   "execution_count": 68,
   "metadata": {},
   "outputs": [
    {
     "name": "stdout",
     "output_type": "stream",
     "text": [
      "ishu\n",
      "<class 'str'>\n",
      "18\n",
      "<class 'int'>\n"
     ]
    }
   ],
   "source": [
    "name=input(\"enter your name\")\n",
    "print(name)\n",
    "print(type(name))\n",
    "age=int(input(\"enter your age\"))\n",
    "print(age)\n",
    "print(type(age))"
   ]
  },
  {
   "cell_type": "code",
   "execution_count": null,
   "metadata": {},
   "outputs": [
    {
     "name": "stdout",
     "output_type": "stream",
     "text": [
      "riya\n",
      "<class 'str'>\n"
     ]
    }
   ],
   "source": [
    "var=(input(\"enter your name: \"))\n",
    "print(var)\n",
    "print(type(var))\n",
    "\n"
   ]
  },
  {
   "attachments": {},
   "cell_type": "markdown",
   "metadata": {},
   "source": [
    "### list and indexing"
   ]
  },
  {
   "cell_type": "code",
   "execution_count": null,
   "metadata": {},
   "outputs": [
    {
     "name": "stdout",
     "output_type": "stream",
     "text": [
      "[1, 'hello', 3.4, 'ankit', 56]\n",
      "11\n",
      "html\n",
      "COBOL\n"
     ]
    }
   ],
   "source": [
    "#empty list\n",
    "list=[]\n",
    "\n",
    "my_list=[1,\"hello\",3.4,\"ankit\",56,]\n",
    "print(my_list)\n",
    "\n",
    "\n",
    "\n",
    "##indexing\n",
    "languages=[\"python\",\"java\",\"C++\",\"html\",\"javascript\",\"applescript\",\"pearl\",\"FORTRAN\",\"COBOL\",\"BASIC\",\"ALGOL\"]\n",
    "print(len(languages))\n",
    "print(languages[3])\n",
    "print(languages[-3])\n"
   ]
  },
  {
   "attachments": {},
   "cell_type": "markdown",
   "metadata": {},
   "source": [
    "### slicing"
   ]
  },
  {
   "cell_type": "code",
   "execution_count": null,
   "metadata": {},
   "outputs": [
    {
     "name": "stdout",
     "output_type": "stream",
     "text": [
      "['O', 'G', 'R']\n",
      "['P', 'R', 'O', 'G', 'R', 'A', 'M', 'I', 'N', 'G']\n",
      "['A', 'M', 'I', 'N', 'G']\n",
      "['P', 'R', 'O', 'G', 'R', 'A']\n",
      "['G', 'M']\n"
     ]
    }
   ],
   "source": [
    "my_list=[\"P\",\"R\",\"O\",\"G\",\"R\",\"A\",\"M\",\"I\",\"N\",\"G\"]\n",
    "print(my_list[2:5])\n",
    "print(my_list[:])\n",
    "print(my_list[5:])\n",
    "print(my_list[:6])\n",
    "print(my_list[3:9:3])"
   ]
  },
  {
   "attachments": {},
   "cell_type": "markdown",
   "metadata": {},
   "source": [
    "### conditional statement"
   ]
  },
  {
   "cell_type": "code",
   "execution_count": 63,
   "metadata": {},
   "outputs": [
    {
     "name": "stdout",
     "output_type": "stream",
     "text": [
      "b is greater than a\n",
      "a is greater than b\n"
     ]
    }
   ],
   "source": [
    "##IF\n",
    "a=32\n",
    "b=200\n",
    "if b>a:\n",
    "    print(\"b is greater than a\")\n",
    "\n",
    "\n",
    "\n",
    "\n",
    "\n",
    "## if else\n",
    "a=7\n",
    "b=5\n",
    "if a<b:\n",
    "    print(\"a is smaller than b\")\n",
    "else:\n",
    "    print(\"a is greater than b\")"
   ]
  },
  {
   "cell_type": "code",
   "execution_count": 62,
   "metadata": {},
   "outputs": [
    {
     "name": "stdout",
     "output_type": "stream",
     "text": [
      "a is equal to b\n",
      "a and b are equals\n"
     ]
    }
   ],
   "source": [
    "##elif\n",
    "a=9\n",
    "b=9\n",
    "if a<b:\n",
    "    print(\"a is less than b\")\n",
    "elif a==b:\n",
    "    print(\"a is equal to b\")\n",
    "else:\n",
    "    print(\"a is greater than b\")\n",
    "\n",
    "\n",
    "a=33\n",
    "b=33\n",
    "if b>a:\n",
    "    print(\"b is greater than a\")\n",
    "elif a==b:\n",
    "    print(\"a and b are equals\")"
   ]
  },
  {
   "cell_type": "code",
   "execution_count": 3,
   "metadata": {},
   "outputs": [],
   "source": [
    "### nested if\n",
    "\n",
    "A=100\n",
    "B=200\n",
    "C=300\n",
    "if B>A:\n",
    "    if B>C:\n",
    "        print(\"B is the largest number\")\n",
    "elif A>B:\n",
    "     print(\"A is the largest numbe\")\n",
    "    \n",
    "elif C>A:\n",
    "    print(\"C is the largest number\")\n",
    "else:\n",
    "     print(\"All numbers are equal\")\n",
    "            \n",
    "     "
   ]
  },
  {
   "cell_type": "code",
   "execution_count": 67,
   "metadata": {},
   "outputs": [
    {
     "name": "stdout",
     "output_type": "stream",
     "text": [
      "above 10\n",
      "and also above 20\n"
     ]
    }
   ],
   "source": [
    "x=41\n",
    "if x>10:\n",
    "    print(\"above 10\")\n",
    "    if x>20:\n",
    "        print(\"and also above 20\")\n",
    "else:\n",
    "    print(\"but not above 20\")"
   ]
  },
  {
   "cell_type": "code",
   "execution_count": null,
   "metadata": {},
   "outputs": [],
   "source": []
  }
 ],
 "metadata": {
  "kernelspec": {
   "display_name": "Python 3",
   "language": "python",
   "name": "python3"
  },
  "language_info": {
   "codemirror_mode": {
    "name": "ipython",
    "version": 3
   },
   "file_extension": ".py",
   "mimetype": "text/x-python",
   "name": "python",
   "nbconvert_exporter": "python",
   "pygments_lexer": "ipython3",
   "version": "3.11.2"
  },
  "orig_nbformat": 4
 },
 "nbformat": 4,
 "nbformat_minor": 2
}
