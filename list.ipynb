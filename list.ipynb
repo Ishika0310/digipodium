{
 "cells": [
  {
   "attachments": {},
   "cell_type": "markdown",
   "metadata": {},
   "source": [
    "## indexing"
   ]
  },
  {
   "cell_type": "code",
   "execution_count": 2,
   "metadata": {},
   "outputs": [
    {
     "name": "stdout",
     "output_type": "stream",
     "text": [
      "11\n",
      "html\n",
      "COBOL\n"
     ]
    }
   ],
   "source": [
    "languages=[\"python\",\"java\",\"C++\",\"html\",\"javascript\",\"applescript\",\"pearl\",\"FORTRAN\",\"COBOL\",\"BASIC\",\"ALGOL\"]\n",
    "print(len(languages))\n",
    "print(languages[3])\n",
    "print(languages[-3])"
   ]
  },
  {
   "cell_type": "code",
   "execution_count": 3,
   "metadata": {},
   "outputs": [
    {
     "name": "stdout",
     "output_type": "stream",
     "text": [
      "['G', 'I', 'P']\n",
      "['D', 'I', 'G', 'I', 'P', 'O', 'D', 'I', 'U', 'M']\n",
      "['O', 'D', 'I', 'U', 'M']\n",
      "['D', 'I', 'G', 'I', 'P', 'O']\n",
      "['I', 'D']\n"
     ]
    }
   ],
   "source": [
    "my_list=[\"D\",\"I\",\"G\",\"I\",\"P\",\"O\",\"D\",\"I\",\"U\",\"M\"]\n",
    "print(my_list[2:5])\n",
    "print(my_list[:])\n",
    "print(my_list[5:])\n",
    "print(my_list[:6])\n",
    "print(my_list[3:9:3])"
   ]
  },
  {
   "cell_type": "code",
   "execution_count": 4,
   "metadata": {},
   "outputs": [
    {
     "name": "stdout",
     "output_type": "stream",
     "text": [
      "18\n"
     ]
    }
   ],
   "source": [
    "flowers= [\"Rose\",\"Chrysanthemum\",\"Daisy\",\"Jasmine\",\"Gerbera\",\"Carnation\",\"Poppy\",\"Tulip\",\"Lily\",\"Lotus\",\"Hibiscus\",\"Peony\",\"Sunflower\",\"Lilac\",\"Aster\",\"Dandelion\",\"Marigold\",\"Dahlia\"]\n",
    "print(len(flowers))"
   ]
  },
  {
   "cell_type": "code",
   "execution_count": 5,
   "metadata": {},
   "outputs": [
    {
     "name": "stdout",
     "output_type": "stream",
     "text": [
      "['Rose', 'Chrysanthemum', 'Daisy', 'Jasmine', 'Gerbera', 'Carnation', 'Poppy', 'Tulip', 'Lily', 'Lotus', 'Hibiscus', 'Peony', 'Sunflower', 'Lilac', 'Aster', 'Dandelion', 'Marigold', 'Dahlia', 'orchid']\n",
      "19\n"
     ]
    }
   ],
   "source": [
    "flowers.append(\"orchid\")\n",
    "print(flowers)\n",
    "print(len(flowers))"
   ]
  },
  {
   "cell_type": "code",
   "execution_count": 6,
   "metadata": {},
   "outputs": [
    {
     "name": "stdout",
     "output_type": "stream",
     "text": [
      "['Rose', 'white rose', 'Chrysanthemum', 'Daisy', 'Jasmine', 'Gerbera', 'Carnation', 'Poppy', 'Tulip', 'Lily', 'Lotus', 'Hibiscus', 'Peony', 'Sunflower', 'Lilac', 'Aster', 'Dandelion', 'Marigold', 'Dahlia', 'orchid']\n"
     ]
    }
   ],
   "source": [
    "flowers.insert(1,\"white rose\")\n",
    "print(flowers)"
   ]
  },
  {
   "cell_type": "code",
   "execution_count": 7,
   "metadata": {},
   "outputs": [
    {
     "name": "stdout",
     "output_type": "stream",
     "text": [
      "['Rose', 'white rose', 'pink rose', 'Chrysanthemum', 'Daisy', 'Jasmine', 'Gerbera', 'Carnation', 'Poppy', 'Tulip', 'Lily', 'Lotus', 'Hibiscus', 'Peony', 'Sunflower', 'Lilac', 'Aster', 'Dandelion', 'Marigold', 'Dahlia', 'orchid']\n"
     ]
    }
   ],
   "source": [
    "flowers.insert(2,\"pink rose\")\n",
    "print(flowers)"
   ]
  },
  {
   "cell_type": "code",
   "execution_count": 8,
   "metadata": {},
   "outputs": [
    {
     "name": "stdout",
     "output_type": "stream",
     "text": [
      "['Rose', 'pink rose', 'Chrysanthemum', 'Daisy', 'Jasmine', 'Gerbera', 'Carnation', 'Poppy', 'Tulip', 'Lily', 'Lotus', 'Hibiscus', 'Peony', 'Sunflower', 'Lilac', 'Aster', 'Dandelion', 'Marigold', 'Dahlia', 'orchid']\n"
     ]
    }
   ],
   "source": [
    "flowers.remove('white rose')\n",
    "print(flowers)"
   ]
  },
  {
   "cell_type": "code",
   "execution_count": 9,
   "metadata": {},
   "outputs": [
    {
     "name": "stdout",
     "output_type": "stream",
     "text": [
      "['Rose', 'pink rose', 'Daisy', 'Jasmine', 'Gerbera', 'Carnation', 'Poppy', 'Tulip', 'Lily', 'Lotus', 'Hibiscus', 'Peony', 'Sunflower', 'Lilac', 'Aster', 'Dandelion', 'Marigold', 'Dahlia', 'orchid']\n"
     ]
    }
   ],
   "source": [
    "flowers.pop(2)\n",
    "print(flowers)"
   ]
  },
  {
   "cell_type": "code",
   "execution_count": 10,
   "metadata": {},
   "outputs": [
    {
     "name": "stdout",
     "output_type": "stream",
     "text": [
      "['orchid', 'Dahlia', 'Marigold', 'Dandelion', 'Aster', 'Lilac', 'Sunflower', 'Peony', 'Hibiscus', 'Lotus', 'Lily', 'Tulip', 'Poppy', 'Carnation', 'Gerbera', 'Jasmine', 'Daisy', 'pink rose', 'Rose']\n"
     ]
    }
   ],
   "source": [
    "flowers.reverse()\n",
    "print(flowers)"
   ]
  },
  {
   "cell_type": "code",
   "execution_count": 11,
   "metadata": {},
   "outputs": [
    {
     "name": "stdout",
     "output_type": "stream",
     "text": [
      "19\n"
     ]
    }
   ],
   "source": [
    "print(len(flowers))"
   ]
  },
  {
   "cell_type": "code",
   "execution_count": 12,
   "metadata": {},
   "outputs": [
    {
     "name": "stdout",
     "output_type": "stream",
     "text": [
      "['orchid', 'Dahlia', 'Marigold', 'Dandelion', 'Aster', 'Lilac', 'Sunflower', 'Peony', 'Hibiscus', 'Lotus', 'Lily', 'Tulip', 'Poppy', 'Carnation', 'Gerbera', 'Jasmine', 'Daisy', 'pink rose', 'Rose']\n",
      "19\n"
     ]
    }
   ],
   "source": [
    "flowers.copy()\n",
    "print(flowers)             ## what is the use of copy? after copy the length of the list is same\n",
    "print(len(flowers))"
   ]
  },
  {
   "cell_type": "code",
   "execution_count": 13,
   "metadata": {},
   "outputs": [
    {
     "name": "stdout",
     "output_type": "stream",
     "text": [
      "['Aster', 'Carnation', 'Dahlia', 'Daisy', 'Dandelion', 'Gerbera', 'Hibiscus', 'Jasmine', 'Lilac', 'Lily', 'Lotus', 'Marigold', 'Peony', 'Poppy', 'Rose', 'Sunflower', 'Tulip', 'orchid', 'pink rose']\n"
     ]
    }
   ],
   "source": [
    "flowers.sort()\n",
    "print(flowers)"
   ]
  },
  {
   "cell_type": "code",
   "execution_count": 14,
   "metadata": {},
   "outputs": [
    {
     "name": "stdout",
     "output_type": "stream",
     "text": [
      "['pink rose', 'orchid', 'Tulip', 'Sunflower', 'Rose', 'Poppy', 'Peony', 'Marigold', 'Lotus', 'Lily', 'Lilac', 'Jasmine', 'Hibiscus', 'Gerbera', 'Dandelion', 'Daisy', 'Dahlia', 'Carnation', 'Aster']\n"
     ]
    }
   ],
   "source": [
    "flowers.reverse()\n",
    "print(flowers)"
   ]
  },
  {
   "cell_type": "code",
   "execution_count": 15,
   "metadata": {},
   "outputs": [
    {
     "name": "stdout",
     "output_type": "stream",
     "text": [
      "['pink rose', 'orchid', 'Tulip', 'Sunflower', 'Rose', 'Poppy', 'Peony', 'Marigold', 'Lotus', 'Lily', 'Lilac', 'Jasmine', 'Hibiscus', 'Gerbera', 'Dandelion', 'Daisy', 'Dahlia', 'Carnation', 'Aster', 'Apple', 'Banana', 'Apricot', 'Atemoya', 'Avocados', 'Blueberry', 'Blackcurrant', 'Ackee', 'Dragonrfruit', 'Dates']\n"
     ]
    }
   ],
   "source": [
    "fruits=[\"Apple\",\"Banana\",\"Apricot\",\"Atemoya\",\"Avocados\",\"Blueberry\",\"Blackcurrant\",\"Ackee\",\"Dragonrfruit\",\"Dates\"]\n",
    "flowers.extend(fruits)\n",
    "print(flowers)"
   ]
  },
  {
   "cell_type": "code",
   "execution_count": 16,
   "metadata": {},
   "outputs": [
    {
     "data": {
      "text/plain": [
       "1"
      ]
     },
     "execution_count": 16,
     "metadata": {},
     "output_type": "execute_result"
    }
   ],
   "source": [
    "flowers.count(\"pink rose\")         ### count function is not working"
   ]
  },
  {
   "cell_type": "code",
   "execution_count": 22,
   "metadata": {},
   "outputs": [
    {
     "name": "stdout",
     "output_type": "stream",
     "text": [
      "reversed number is 5\n",
      "reversed number is 4\n",
      "reversed number is 3\n"
     ]
    }
   ],
   "source": [
    "i=int(input(\"enter a number\"))\n",
    "b=0\n",
    "while(i>0):\n",
    "    reversed=(b*10)+i%10\n",
    "    i=i//10\n",
    "    print(\"reversed number is\",reversed)"
   ]
  },
  {
   "cell_type": "code",
   "execution_count": 23,
   "metadata": {},
   "outputs": [
    {
     "name": "stdout",
     "output_type": "stream",
     "text": [
      "0\n",
      "1\n",
      "1\n",
      "2\n",
      "3\n",
      "5\n",
      "8\n"
     ]
    }
   ],
   "source": [
    "n=(int(input(\"enter a number\")))\n",
    "x=0\n",
    "y=1\n",
    "z=0\n",
    "while(z<=n):\n",
    "    print(z)\n",
    "    x=y\n",
    "    y=z\n",
    "    z=x+y\n"
   ]
  },
  {
   "cell_type": "code",
   "execution_count": null,
   "metadata": {},
   "outputs": [],
   "source": []
  }
 ],
 "metadata": {
  "kernelspec": {
   "display_name": "Python 3",
   "language": "python",
   "name": "python3"
  },
  "language_info": {
   "codemirror_mode": {
    "name": "ipython",
    "version": 3
   },
   "file_extension": ".py",
   "mimetype": "text/x-python",
   "name": "python",
   "nbconvert_exporter": "python",
   "pygments_lexer": "ipython3",
   "version": "3.11.2"
  },
  "orig_nbformat": 4
 },
 "nbformat": 4,
 "nbformat_minor": 2
}
